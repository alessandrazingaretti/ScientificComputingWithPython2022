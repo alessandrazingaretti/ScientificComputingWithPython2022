{
 "cells": [
  {
   "cell_type": "markdown",
   "metadata": {},
   "source": [
    "1\\. **Pandas DataFrame**\n",
    "\n",
    "This exercise consists in analyzing a dataset containg timing information from a series of Time-to-Digital-Converters (TDC) implemented in a pair of FPGAs. Each measurement (i.e. each row of the input file) consists of a flag that specifies the type of message ('HEAD', which in this case is always 1), two addresses of the TDC providing the signal ('FPGA' and 'TDC_CHANNEL'), and the timing information ('ORBIT_CNT', 'BX_COUNTER', and 'TDC_MEAS'). Each TDC count corresponds to 25/30 ns, whereas a unit of BX_COUNTER corresponds to 25 ns, and the ORBIT_CNT is increased every `x` BX_COUNTER. This allows to store the time in a similar way to hours, minutes and seconds."
   ]
  },
  {
   "cell_type": "markdown",
   "metadata": {},
   "source": [
    "# If haven't downloaded it yet, please get the data file with wget\n",
    "#!wget https://www.dropbox.com/s/xvjzaxzz3ysphme/data_000637.txt -P ./data/"
   ]
  },
  {
   "cell_type": "markdown",
   "metadata": {},
   "source": [
    "1\\. Create a Pandas DataFrame reading N rows of the `data/data_000637.txt` dataset. Choose N to be smaller than or equal to the maximum number of rows and larger that 10k (check the documentation)."
   ]
  },
  {
   "cell_type": "code",
   "execution_count": 1,
   "metadata": {
    "scrolled": true
   },
   "outputs": [
    {
     "data": {
      "text/html": [
       "<div>\n",
       "<style scoped>\n",
       "    .dataframe tbody tr th:only-of-type {\n",
       "        vertical-align: middle;\n",
       "    }\n",
       "\n",
       "    .dataframe tbody tr th {\n",
       "        vertical-align: top;\n",
       "    }\n",
       "\n",
       "    .dataframe thead th {\n",
       "        text-align: right;\n",
       "    }\n",
       "</style>\n",
       "<table border=\"1\" class=\"dataframe\">\n",
       "  <thead>\n",
       "    <tr style=\"text-align: right;\">\n",
       "      <th></th>\n",
       "      <th>HEAD</th>\n",
       "      <th>FPGA</th>\n",
       "      <th>TDC_CHANNEL</th>\n",
       "      <th>ORBIT_CNT</th>\n",
       "      <th>BX_COUNTER</th>\n",
       "      <th>TDC_MEAS</th>\n",
       "    </tr>\n",
       "  </thead>\n",
       "  <tbody>\n",
       "    <tr>\n",
       "      <th>0</th>\n",
       "      <td>1</td>\n",
       "      <td>0</td>\n",
       "      <td>123</td>\n",
       "      <td>3869200167</td>\n",
       "      <td>2374</td>\n",
       "      <td>26</td>\n",
       "    </tr>\n",
       "    <tr>\n",
       "      <th>1</th>\n",
       "      <td>1</td>\n",
       "      <td>0</td>\n",
       "      <td>124</td>\n",
       "      <td>3869200167</td>\n",
       "      <td>2374</td>\n",
       "      <td>27</td>\n",
       "    </tr>\n",
       "    <tr>\n",
       "      <th>2</th>\n",
       "      <td>1</td>\n",
       "      <td>0</td>\n",
       "      <td>63</td>\n",
       "      <td>3869200167</td>\n",
       "      <td>2553</td>\n",
       "      <td>28</td>\n",
       "    </tr>\n",
       "    <tr>\n",
       "      <th>3</th>\n",
       "      <td>1</td>\n",
       "      <td>0</td>\n",
       "      <td>64</td>\n",
       "      <td>3869200167</td>\n",
       "      <td>2558</td>\n",
       "      <td>19</td>\n",
       "    </tr>\n",
       "    <tr>\n",
       "      <th>4</th>\n",
       "      <td>1</td>\n",
       "      <td>0</td>\n",
       "      <td>64</td>\n",
       "      <td>3869200167</td>\n",
       "      <td>2760</td>\n",
       "      <td>25</td>\n",
       "    </tr>\n",
       "    <tr>\n",
       "      <th>...</th>\n",
       "      <td>...</td>\n",
       "      <td>...</td>\n",
       "      <td>...</td>\n",
       "      <td>...</td>\n",
       "      <td>...</td>\n",
       "      <td>...</td>\n",
       "    </tr>\n",
       "    <tr>\n",
       "      <th>1197226</th>\n",
       "      <td>1</td>\n",
       "      <td>1</td>\n",
       "      <td>20</td>\n",
       "      <td>3869210418</td>\n",
       "      <td>1478</td>\n",
       "      <td>27</td>\n",
       "    </tr>\n",
       "    <tr>\n",
       "      <th>1197227</th>\n",
       "      <td>1</td>\n",
       "      <td>0</td>\n",
       "      <td>116</td>\n",
       "      <td>3869210418</td>\n",
       "      <td>1479</td>\n",
       "      <td>4</td>\n",
       "    </tr>\n",
       "    <tr>\n",
       "      <th>1197228</th>\n",
       "      <td>1</td>\n",
       "      <td>1</td>\n",
       "      <td>50</td>\n",
       "      <td>3869210418</td>\n",
       "      <td>1484</td>\n",
       "      <td>14</td>\n",
       "    </tr>\n",
       "    <tr>\n",
       "      <th>1197229</th>\n",
       "      <td>1</td>\n",
       "      <td>0</td>\n",
       "      <td>32</td>\n",
       "      <td>3869210418</td>\n",
       "      <td>1487</td>\n",
       "      <td>28</td>\n",
       "    </tr>\n",
       "    <tr>\n",
       "      <th>1197230</th>\n",
       "      <td>1</td>\n",
       "      <td>0</td>\n",
       "      <td>58</td>\n",
       "      <td>3869210418</td>\n",
       "      <td>1480</td>\n",
       "      <td>9</td>\n",
       "    </tr>\n",
       "  </tbody>\n",
       "</table>\n",
       "<p>1197231 rows × 6 columns</p>\n",
       "</div>"
      ],
      "text/plain": [
       "         HEAD  FPGA  TDC_CHANNEL   ORBIT_CNT  BX_COUNTER  TDC_MEAS\n",
       "0           1     0          123  3869200167        2374        26\n",
       "1           1     0          124  3869200167        2374        27\n",
       "2           1     0           63  3869200167        2553        28\n",
       "3           1     0           64  3869200167        2558        19\n",
       "4           1     0           64  3869200167        2760        25\n",
       "...       ...   ...          ...         ...         ...       ...\n",
       "1197226     1     1           20  3869210418        1478        27\n",
       "1197227     1     0          116  3869210418        1479         4\n",
       "1197228     1     1           50  3869210418        1484        14\n",
       "1197229     1     0           32  3869210418        1487        28\n",
       "1197230     1     0           58  3869210418        1480         9\n",
       "\n",
       "[1197231 rows x 6 columns]"
      ]
     },
     "execution_count": 1,
     "metadata": {},
     "output_type": "execute_result"
    }
   ],
   "source": [
    "import pandas as pd # standard naming convention\n",
    "import numpy as np\n",
    "import random\n",
    "\n",
    "file_name = \"./data/data_000637.txt\"\n",
    "\n",
    "df = pd.read_csv(file_name, nrows=random.randint(10000,1310720))\n",
    "\n",
    "df"
   ]
  },
  {
   "cell_type": "markdown",
   "metadata": {},
   "source": [
    "2\\. Estimate the number of BX in a ORBIT (the value `x`).\n",
    "\n",
    "*Hint*: check when the BX counter reaches the maximum value before being reset to 0."
   ]
  },
  {
   "cell_type": "code",
   "execution_count": 2,
   "metadata": {},
   "outputs": [
    {
     "name": "stdout",
     "output_type": "stream",
     "text": [
      "3563\n"
     ]
    }
   ],
   "source": [
    "maxClm = df['BX_COUNTER'].max() \n",
    "print(maxClm) "
   ]
  },
  {
   "cell_type": "markdown",
   "metadata": {},
   "source": [
    "3\\. Create a new column with the absolute time in ns (as a combination of the other three columns with timing information) since the beginning of the data acquisition, and convert the new column to a Time Series."
   ]
  },
  {
   "cell_type": "code",
   "execution_count": 3,
   "metadata": {},
   "outputs": [
    {
     "data": {
      "text/html": [
       "<div>\n",
       "<style scoped>\n",
       "    .dataframe tbody tr th:only-of-type {\n",
       "        vertical-align: middle;\n",
       "    }\n",
       "\n",
       "    .dataframe tbody tr th {\n",
       "        vertical-align: top;\n",
       "    }\n",
       "\n",
       "    .dataframe thead th {\n",
       "        text-align: right;\n",
       "    }\n",
       "</style>\n",
       "<table border=\"1\" class=\"dataframe\">\n",
       "  <thead>\n",
       "    <tr style=\"text-align: right;\">\n",
       "      <th></th>\n",
       "      <th>HEAD</th>\n",
       "      <th>FPGA</th>\n",
       "      <th>TDC_CHANNEL</th>\n",
       "      <th>ORBIT_CNT</th>\n",
       "      <th>BX_COUNTER</th>\n",
       "      <th>TDC_MEAS</th>\n",
       "      <th>ABS_TIME</th>\n",
       "    </tr>\n",
       "  </thead>\n",
       "  <tbody>\n",
       "    <tr>\n",
       "      <th>0</th>\n",
       "      <td>1</td>\n",
       "      <td>0</td>\n",
       "      <td>123</td>\n",
       "      <td>3869200167</td>\n",
       "      <td>2374</td>\n",
       "      <td>26</td>\n",
       "      <td>3.446490e+14</td>\n",
       "    </tr>\n",
       "    <tr>\n",
       "      <th>1</th>\n",
       "      <td>1</td>\n",
       "      <td>0</td>\n",
       "      <td>124</td>\n",
       "      <td>3869200167</td>\n",
       "      <td>2374</td>\n",
       "      <td>27</td>\n",
       "      <td>3.446490e+14</td>\n",
       "    </tr>\n",
       "    <tr>\n",
       "      <th>2</th>\n",
       "      <td>1</td>\n",
       "      <td>0</td>\n",
       "      <td>63</td>\n",
       "      <td>3869200167</td>\n",
       "      <td>2553</td>\n",
       "      <td>28</td>\n",
       "      <td>3.446490e+14</td>\n",
       "    </tr>\n",
       "    <tr>\n",
       "      <th>3</th>\n",
       "      <td>1</td>\n",
       "      <td>0</td>\n",
       "      <td>64</td>\n",
       "      <td>3869200167</td>\n",
       "      <td>2558</td>\n",
       "      <td>19</td>\n",
       "      <td>3.446490e+14</td>\n",
       "    </tr>\n",
       "    <tr>\n",
       "      <th>4</th>\n",
       "      <td>1</td>\n",
       "      <td>0</td>\n",
       "      <td>64</td>\n",
       "      <td>3869200167</td>\n",
       "      <td>2760</td>\n",
       "      <td>25</td>\n",
       "      <td>3.446490e+14</td>\n",
       "    </tr>\n",
       "    <tr>\n",
       "      <th>...</th>\n",
       "      <td>...</td>\n",
       "      <td>...</td>\n",
       "      <td>...</td>\n",
       "      <td>...</td>\n",
       "      <td>...</td>\n",
       "      <td>...</td>\n",
       "      <td>...</td>\n",
       "    </tr>\n",
       "    <tr>\n",
       "      <th>1197226</th>\n",
       "      <td>1</td>\n",
       "      <td>1</td>\n",
       "      <td>20</td>\n",
       "      <td>3869210418</td>\n",
       "      <td>1478</td>\n",
       "      <td>27</td>\n",
       "      <td>3.446499e+14</td>\n",
       "    </tr>\n",
       "    <tr>\n",
       "      <th>1197227</th>\n",
       "      <td>1</td>\n",
       "      <td>0</td>\n",
       "      <td>116</td>\n",
       "      <td>3869210418</td>\n",
       "      <td>1479</td>\n",
       "      <td>4</td>\n",
       "      <td>3.446499e+14</td>\n",
       "    </tr>\n",
       "    <tr>\n",
       "      <th>1197228</th>\n",
       "      <td>1</td>\n",
       "      <td>1</td>\n",
       "      <td>50</td>\n",
       "      <td>3869210418</td>\n",
       "      <td>1484</td>\n",
       "      <td>14</td>\n",
       "      <td>3.446499e+14</td>\n",
       "    </tr>\n",
       "    <tr>\n",
       "      <th>1197229</th>\n",
       "      <td>1</td>\n",
       "      <td>0</td>\n",
       "      <td>32</td>\n",
       "      <td>3869210418</td>\n",
       "      <td>1487</td>\n",
       "      <td>28</td>\n",
       "      <td>3.446499e+14</td>\n",
       "    </tr>\n",
       "    <tr>\n",
       "      <th>1197230</th>\n",
       "      <td>1</td>\n",
       "      <td>0</td>\n",
       "      <td>58</td>\n",
       "      <td>3869210418</td>\n",
       "      <td>1480</td>\n",
       "      <td>9</td>\n",
       "      <td>3.446499e+14</td>\n",
       "    </tr>\n",
       "  </tbody>\n",
       "</table>\n",
       "<p>1197231 rows × 7 columns</p>\n",
       "</div>"
      ],
      "text/plain": [
       "         HEAD  FPGA  TDC_CHANNEL   ORBIT_CNT  BX_COUNTER  TDC_MEAS  \\\n",
       "0           1     0          123  3869200167        2374        26   \n",
       "1           1     0          124  3869200167        2374        27   \n",
       "2           1     0           63  3869200167        2553        28   \n",
       "3           1     0           64  3869200167        2558        19   \n",
       "4           1     0           64  3869200167        2760        25   \n",
       "...       ...   ...          ...         ...         ...       ...   \n",
       "1197226     1     1           20  3869210418        1478        27   \n",
       "1197227     1     0          116  3869210418        1479         4   \n",
       "1197228     1     1           50  3869210418        1484        14   \n",
       "1197229     1     0           32  3869210418        1487        28   \n",
       "1197230     1     0           58  3869210418        1480         9   \n",
       "\n",
       "             ABS_TIME  \n",
       "0        3.446490e+14  \n",
       "1        3.446490e+14  \n",
       "2        3.446490e+14  \n",
       "3        3.446490e+14  \n",
       "4        3.446490e+14  \n",
       "...               ...  \n",
       "1197226  3.446499e+14  \n",
       "1197227  3.446499e+14  \n",
       "1197228  3.446499e+14  \n",
       "1197229  3.446499e+14  \n",
       "1197230  3.446499e+14  \n",
       "\n",
       "[1197231 rows x 7 columns]"
      ]
     },
     "execution_count": 3,
     "metadata": {},
     "output_type": "execute_result"
    }
   ],
   "source": [
    "df['ABS_TIME'] = df['ORBIT_CNT']*maxClm*25+ df['BX_COUNTER']*25 + df['TDC_MEAS']*25/30\n",
    "df"
   ]
  },
  {
   "cell_type": "code",
   "execution_count": 4,
   "metadata": {},
   "outputs": [
    {
     "data": {
      "text/plain": [
       "0         1970-01-04 23:44:09.004934896\n",
       "1         1970-01-04 23:44:09.004934897\n",
       "2         1970-01-04 23:44:09.004939373\n",
       "3         1970-01-04 23:44:09.004939490\n",
       "4         1970-01-04 23:44:09.004944545\n",
       "                       ...             \n",
       "1197226   1970-01-04 23:44:09.918020322\n",
       "1197227   1970-01-04 23:44:09.918020328\n",
       "1197228   1970-01-04 23:44:09.918020461\n",
       "1197229   1970-01-04 23:44:09.918020548\n",
       "1197230   1970-01-04 23:44:09.918020357\n",
       "Name: ABS_TIME, Length: 1197231, dtype: datetime64[ns]"
      ]
     },
     "execution_count": 4,
     "metadata": {},
     "output_type": "execute_result"
    }
   ],
   "source": [
    "df['ABS_TIME'] = pd.to_datetime(df['ABS_TIME'], unit='ns')\n",
    "df['ABS_TIME']"
   ]
  },
  {
   "cell_type": "markdown",
   "metadata": {},
   "source": [
    "4\\. Find out the duration of the data taking in hours, minutes and seconds, by using the features of the Time Series. Perform this check reading the whole dataset."
   ]
  },
  {
   "cell_type": "code",
   "execution_count": 5,
   "metadata": {},
   "outputs": [
    {
     "data": {
      "text/plain": [
       "Timedelta('0 days 00:00:00.913085652')"
      ]
     },
     "execution_count": 5,
     "metadata": {},
     "output_type": "execute_result"
    }
   ],
   "source": [
    "df['ABS_TIME'].max() - df['ABS_TIME'].min()"
   ]
  },
  {
   "cell_type": "markdown",
   "metadata": {},
   "source": [
    "5\\. Use the `.groupby()` method to find out the noisy channels, i.e. the TDC channels with most counts (print to screen the top 3 and the corresponding counts)"
   ]
  },
  {
   "cell_type": "code",
   "execution_count": 6,
   "metadata": {},
   "outputs": [
    {
     "data": {
      "text/plain": [
       "BX_COUNTER\n",
       "3437    425\n",
       "3008    420\n",
       "756     418\n",
       "Name: FPGA, dtype: int64"
      ]
     },
     "execution_count": 6,
     "metadata": {},
     "output_type": "execute_result"
    }
   ],
   "source": [
    "noisyCh = df.groupby('BX_COUNTER').count()['FPGA'].nlargest(3)\n",
    "noisyCh"
   ]
  },
  {
   "cell_type": "markdown",
   "metadata": {},
   "source": [
    "6\\. Count the number of non-empty orbits (i.e. the number of orbits with at least one hit)."
   ]
  },
  {
   "cell_type": "code",
   "execution_count": 7,
   "metadata": {},
   "outputs": [
    {
     "data": {
      "text/plain": [
       "1062332"
      ]
     },
     "execution_count": 7,
     "metadata": {},
     "output_type": "execute_result"
    }
   ],
   "source": [
    "nonEmpty = df[df['TDC_MEAS'] >= 1]['ORBIT_CNT']\n",
    "len(nonEmpty)"
   ]
  },
  {
   "cell_type": "markdown",
   "metadata": {},
   "source": [
    "7\\. Count the number of unique orbits with at least one measurement from TDC_CHANNEL=139."
   ]
  },
  {
   "cell_type": "code",
   "execution_count": 8,
   "metadata": {},
   "outputs": [
    {
     "name": "stdout",
     "output_type": "stream",
     "text": [
      "10223\n"
     ]
    }
   ],
   "source": [
    "uniqueOrbits = np.unique(df[df['TDC_CHANNEL'] == 139]['ORBIT_CNT'])\n",
    "print(len(uniqueOrbits))"
   ]
  },
  {
   "cell_type": "markdown",
   "metadata": {},
   "source": [
    "8\\. Create two Series (one for each FPGA) that have the TDC channel as index, and the number of counts for the corresponding TDC channel as values."
   ]
  },
  {
   "cell_type": "code",
   "execution_count": 9,
   "metadata": {},
   "outputs": [
    {
     "data": {
      "text/plain": [
       "(TDC_CHANNEL\n",
       " 123     NaN\n",
       " 124     9.0\n",
       " 63      NaN\n",
       " 64     12.0\n",
       " 64     12.0\n",
       "        ... \n",
       " 23     15.0\n",
       " 64     12.0\n",
       " 116     NaN\n",
       " 32     25.0\n",
       " 58      NaN\n",
       " Name: TDC_MEAS, Length: 842688, dtype: float64,\n",
       " TDC_CHANNEL\n",
       " 123    17\n",
       " 124     9\n",
       " 63     17\n",
       " 64     12\n",
       " 64     12\n",
       "        ..\n",
       " 20     14\n",
       " 116     0\n",
       " 50      9\n",
       " 32     25\n",
       " 58      6\n",
       " Name: TDC_MEAS, Length: 1197231, dtype: int64)"
      ]
     },
     "execution_count": 9,
     "metadata": {},
     "output_type": "execute_result"
    }
   ],
   "source": [
    "df0 = df.loc[df['FPGA'] == 0]\n",
    "df1 = df.loc[df['FPGA'] == 1]\n",
    "\n",
    "s0 = pd.Series(df0['TDC_MEAS'], index=df0['TDC_CHANNEL'])\n",
    "s1 = pd.Series(df['TDC_MEAS'], index=df['TDC_CHANNEL'])\n",
    "\n",
    "s0, s1"
   ]
  },
  {
   "cell_type": "markdown",
   "metadata": {},
   "source": [
    "9\\. **Optional:** Create two histograms (one for each FPGA) that show the number of counts for each TDC channel."
   ]
  },
  {
   "cell_type": "code",
   "execution_count": 10,
   "metadata": {},
   "outputs": [
    {
     "data": {
      "text/plain": [
       "Text(0, 0.5, 'Counts')"
      ]
     },
     "execution_count": 10,
     "metadata": {},
     "output_type": "execute_result"
    },
    {
     "data": {
      "image/png": "[encoded data removed]",
      "text/plain": [
       "<Figure size 432x288 with 1 Axes>"
      ]
     },
     "metadata": {
      "needs_background": "light"
     },
     "output_type": "display_data"
    }
   ],
   "source": [
    "import matplotlib.pyplot as plt\n",
    "\n",
    "TDC0 = df0['TDC_CHANNEL']\n",
    "plt.figure()\n",
    "plt.hist(TDC0, bins='auto')\n",
    "plt.title('Counts vs TDC channel for FPGA 0')\n",
    "plt.xlabel('TDC_CH')\n",
    "plt.ylabel('Counts')"
   ]
  },
  {
   "cell_type": "code",
   "execution_count": 11,
   "metadata": {},
   "outputs": [
    {
     "data": {
      "text/plain": [
       "Text(0, 0.5, 'Counts')"
      ]
     },
     "execution_count": 11,
     "metadata": {},
     "output_type": "execute_result"
    },
    {
     "data": {
      "image/png": "[encoded data removed]",
      "text/plain": [
       "<Figure size 432x288 with 1 Axes>"
      ]
     },
     "metadata": {
      "needs_background": "light"
     },
     "output_type": "display_data"
    }
   ],
   "source": [
    "TDC1 = df1['TDC_CHANNEL']\n",
    "plt.figure()\n",
    "plt.hist(TDC1, bins='auto')\n",
    "plt.title('Counts vs TDC channel for FPGA 1')\n",
    "plt.xlabel('TDC_CH')\n",
    "plt.ylabel('Counts')"
   ]
  }
 ],
 "metadata": {
  "kernelspec": {
   "display_name": "Python 3 (ipykernel)",
   "language": "python",
   "name": "python3"
  },
  "language_info": {
   "codemirror_mode": {
    "name": "ipython",
    "version": 3
   },
   "file_extension": ".py",
   "mimetype": "text/x-python",
   "name": "python",
   "nbconvert_exporter": "python",
   "pygments_lexer": "ipython3",
   "version": "3.9.12"
  }
 },
 "nbformat": 4,
 "nbformat_minor": 2
}
